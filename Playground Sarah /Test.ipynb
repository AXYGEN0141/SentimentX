{
 "cells": [
  {
   "cell_type": "code",
   "execution_count": 1,
   "metadata": {},
   "outputs": [
    {
     "name": "stdout",
     "output_type": "stream",
     "text": [
      "Requirement already satisfied: tweepy in /opt/anaconda3/lib/python3.8/site-packages (3.10.0)\n",
      "Requirement already satisfied: six>=1.10.0 in /opt/anaconda3/lib/python3.8/site-packages (from tweepy) (1.15.0)\n",
      "Requirement already satisfied: requests-oauthlib>=0.7.0 in /opt/anaconda3/lib/python3.8/site-packages (from tweepy) (1.3.0)\n",
      "Requirement already satisfied: requests[socks]>=2.11.1 in /opt/anaconda3/lib/python3.8/site-packages (from tweepy) (2.24.0)\n",
      "Requirement already satisfied: oauthlib>=3.0.0 in /opt/anaconda3/lib/python3.8/site-packages (from requests-oauthlib>=0.7.0->tweepy) (3.1.0)\n",
      "Requirement already satisfied: certifi>=2017.4.17 in /opt/anaconda3/lib/python3.8/site-packages (from requests[socks]>=2.11.1->tweepy) (2020.6.20)\n",
      "Requirement already satisfied: idna<3,>=2.5 in /opt/anaconda3/lib/python3.8/site-packages (from requests[socks]>=2.11.1->tweepy) (2.10)\n",
      "Requirement already satisfied: chardet<4,>=3.0.2 in /opt/anaconda3/lib/python3.8/site-packages (from requests[socks]>=2.11.1->tweepy) (3.0.4)\n",
      "Requirement already satisfied: urllib3!=1.25.0,!=1.25.1,<1.26,>=1.21.1 in /opt/anaconda3/lib/python3.8/site-packages (from requests[socks]>=2.11.1->tweepy) (1.25.11)\n",
      "Requirement already satisfied: PySocks!=1.5.7,>=1.5.6; extra == \"socks\" in /opt/anaconda3/lib/python3.8/site-packages (from requests[socks]>=2.11.1->tweepy) (1.7.1)\n",
      "Note: you may need to restart the kernel to use updated packages.\n"
     ]
    }
   ],
   "source": [
    "pip install tweepy"
   ]
  },
  {
   "cell_type": "code",
   "execution_count": 3,
   "metadata": {},
   "outputs": [
    {
     "name": "stdout",
     "output_type": "stream",
     "text": [
      "RT @Nincee2: i screenshot things and never look at them again lol\n",
      "RT @f8the: i hope frank ocean is ok\n",
      "RT @redhotmullet: https://t.co/dhzzS6zwbd\n",
      "RT @Leroniz_xo: Clap for your friends even if their dreams take off before yours.\n",
      "RT @Nas: Long crypto forever.... in sickness &amp; in health\n",
      "RT @glojabi: if you see someone being a little more religious than usual during ramadan pls do not say “since when we’re u so relig-“ stop.…\n",
      "RT @STU_07: Being called sensitive for reacting to disrespect is manipulation at its finest\n",
      "RT @imjust_kay: Imagine if Twitter had a “nope,someone already tweeted that...try again” feature💀\n",
      "RT @BEYSIREN: Remember when Chloe Bailey.... https://t.co/DOM5jNzBuZ\n",
      "Wow https://t.co/Cw71mWPkRK\n",
      "YES It WAS https://t.co/W4hgY2hKxB\n",
      "RT @kaitlynn182: Why did our parents sexualize red nail polish\n",
      "Ready Player One Is One Of The Best Movie Of All Time And Now Everyone Can See It’s Influence\n",
      "RT @MartinezDenison: No more check engine light gracias a Dios 🙏🏻 https://t.co/NdS3b7jxAN\n",
      "RT @ronza_hamed: i really lost all the motivation and excitement to talk to people\n",
      "RT @aliterral: let’s normalize a 80mph speed limit\n",
      "RT @alejandroo1200: Getting vaccinated DOES NOT mean you can bring out the pink Lamborghini just to race with Chyna brought the wraith to C…\n",
      "you’re so predictable i hate people like you\n",
      "Driven By My Ancestors\n",
      "RT @brckhmptn: ROADRUNNER\n",
      "\n",
      "https://t.co/d1pQ9kELvp https://t.co/JMOW1AHDTO\n"
     ]
    }
   ],
   "source": [
    "import tweepy\n",
    "\n",
    "# Researcher Twitter API\n",
    "auth = tweepy.OAuthHandler('XV3xaBXC18JevDGCuBJUNHaT5', '0GBbyvmdQfQQpqOGdyXeTxM7cUXYZwktVQdsauPcNlK9EhlxL9')\n",
    "auth.set_access_token('1071749235677237250-TerVqgDZQ9AFLVtJUOD7S5c5ExaSOL', 'CqNmOQOJmtOdhftaA4V8BAZI4NHeTQMCGreVUUQkLLd9y')\n",
    "api = tweepy.API(auth)\n",
    "\n",
    "# example code\n",
    "public_tweets = api.home_timeline()\n",
    "for tweet in public_tweets:\n",
    "    print(tweet.text)"
   ]
  },
  {
   "cell_type": "code",
   "execution_count": null,
   "metadata": {},
   "outputs": [],
   "source": []
  }
 ],
 "metadata": {
  "kernelspec": {
   "display_name": "Python 3",
   "language": "python",
   "name": "python3"
  },
  "language_info": {
   "codemirror_mode": {
    "name": "ipython",
    "version": 3
   },
   "file_extension": ".py",
   "mimetype": "text/x-python",
   "name": "python",
   "nbconvert_exporter": "python",
   "pygments_lexer": "ipython3",
   "version": "3.8.5"
  }
 },
 "nbformat": 4,
 "nbformat_minor": 4
}
